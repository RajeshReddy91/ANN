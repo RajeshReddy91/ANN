{
  "nbformat": 4,
  "nbformat_minor": 0,
  "metadata": {
    "colab": {
      "name": "First_ANN.ipynb",
      "provenance": [],
      "collapsed_sections": []
    },
    "kernelspec": {
      "name": "python3",
      "display_name": "Python 3"
    }
  },
  "cells": [
    {
      "cell_type": "code",
      "metadata": {
        "id": "S7pIRGMmBNnV",
        "colab_type": "code",
        "outputId": "de1b9d76-dc73-4af8-c86c-e6780b52e74a",
        "colab": {
          "resources": {
            "http://localhost:8080/nbextensions/google.colab/files.js": {
              "data": "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",
              "ok": true,
              "headers": [
                [
                  "content-type",
                  "application/javascript"
                ]
              ],
              "status": 200,
              "status_text": ""
            }
          },
          "base_uri": "https://localhost:8080/",
          "height": 74
        }
      },
      "source": [
        "from google.colab import files\n",
        "uploaded = files.upload()"
      ],
      "execution_count": 0,
      "outputs": [
        {
          "output_type": "display_data",
          "data": {
            "text/html": [
              "\n",
              "     <input type=\"file\" id=\"files-7c8df06f-1d3a-4844-862d-e4a3989ca013\" name=\"files[]\" multiple disabled />\n",
              "     <output id=\"result-7c8df06f-1d3a-4844-862d-e4a3989ca013\">\n",
              "      Upload widget is only available when the cell has been executed in the\n",
              "      current browser session. Please rerun this cell to enable.\n",
              "      </output>\n",
              "      <script src=\"/nbextensions/google.colab/files.js\"></script> "
            ],
            "text/plain": [
              "<IPython.core.display.HTML object>"
            ]
          },
          "metadata": {
            "tags": []
          }
        },
        {
          "output_type": "stream",
          "text": [
            "Saving Churn_Modelling.csv to Churn_Modelling.csv\n"
          ],
          "name": "stdout"
        }
      ]
    },
    {
      "cell_type": "code",
      "metadata": {
        "id": "KIIt9s8LB5FK",
        "colab_type": "code",
        "colab": {}
      },
      "source": [
        "import numpy as np\n",
        "import pandas as pd\n",
        "import io\n",
        "dataset = pd.read_csv(io.BytesIO(uploaded['Churn_Modelling.csv']))"
      ],
      "execution_count": 0,
      "outputs": []
    },
    {
      "cell_type": "code",
      "metadata": {
        "id": "BexKzNiyFD-R",
        "colab_type": "code",
        "outputId": "1951f375-6cad-4416-86ff-81dcd76f8b8c",
        "colab": {
          "base_uri": "https://localhost:8080/",
          "height": 195
        }
      },
      "source": [
        "dataset.head()"
      ],
      "execution_count": 0,
      "outputs": [
        {
          "output_type": "execute_result",
          "data": {
            "text/html": [
              "<div>\n",
              "<style scoped>\n",
              "    .dataframe tbody tr th:only-of-type {\n",
              "        vertical-align: middle;\n",
              "    }\n",
              "\n",
              "    .dataframe tbody tr th {\n",
              "        vertical-align: top;\n",
              "    }\n",
              "\n",
              "    .dataframe thead th {\n",
              "        text-align: right;\n",
              "    }\n",
              "</style>\n",
              "<table border=\"1\" class=\"dataframe\">\n",
              "  <thead>\n",
              "    <tr style=\"text-align: right;\">\n",
              "      <th></th>\n",
              "      <th>RowNumber</th>\n",
              "      <th>CustomerId</th>\n",
              "      <th>Surname</th>\n",
              "      <th>CreditScore</th>\n",
              "      <th>Geography</th>\n",
              "      <th>Gender</th>\n",
              "      <th>Age</th>\n",
              "      <th>Tenure</th>\n",
              "      <th>Balance</th>\n",
              "      <th>NumOfProducts</th>\n",
              "      <th>HasCrCard</th>\n",
              "      <th>IsActiveMember</th>\n",
              "      <th>EstimatedSalary</th>\n",
              "      <th>Exited</th>\n",
              "    </tr>\n",
              "  </thead>\n",
              "  <tbody>\n",
              "    <tr>\n",
              "      <th>0</th>\n",
              "      <td>1</td>\n",
              "      <td>15634602</td>\n",
              "      <td>Hargrave</td>\n",
              "      <td>619</td>\n",
              "      <td>France</td>\n",
              "      <td>Female</td>\n",
              "      <td>42</td>\n",
              "      <td>2</td>\n",
              "      <td>0.00</td>\n",
              "      <td>1</td>\n",
              "      <td>1</td>\n",
              "      <td>1</td>\n",
              "      <td>101348.88</td>\n",
              "      <td>1</td>\n",
              "    </tr>\n",
              "    <tr>\n",
              "      <th>1</th>\n",
              "      <td>2</td>\n",
              "      <td>15647311</td>\n",
              "      <td>Hill</td>\n",
              "      <td>608</td>\n",
              "      <td>Spain</td>\n",
              "      <td>Female</td>\n",
              "      <td>41</td>\n",
              "      <td>1</td>\n",
              "      <td>83807.86</td>\n",
              "      <td>1</td>\n",
              "      <td>0</td>\n",
              "      <td>1</td>\n",
              "      <td>112542.58</td>\n",
              "      <td>0</td>\n",
              "    </tr>\n",
              "    <tr>\n",
              "      <th>2</th>\n",
              "      <td>3</td>\n",
              "      <td>15619304</td>\n",
              "      <td>Onio</td>\n",
              "      <td>502</td>\n",
              "      <td>France</td>\n",
              "      <td>Female</td>\n",
              "      <td>42</td>\n",
              "      <td>8</td>\n",
              "      <td>159660.80</td>\n",
              "      <td>3</td>\n",
              "      <td>1</td>\n",
              "      <td>0</td>\n",
              "      <td>113931.57</td>\n",
              "      <td>1</td>\n",
              "    </tr>\n",
              "    <tr>\n",
              "      <th>3</th>\n",
              "      <td>4</td>\n",
              "      <td>15701354</td>\n",
              "      <td>Boni</td>\n",
              "      <td>699</td>\n",
              "      <td>France</td>\n",
              "      <td>Female</td>\n",
              "      <td>39</td>\n",
              "      <td>1</td>\n",
              "      <td>0.00</td>\n",
              "      <td>2</td>\n",
              "      <td>0</td>\n",
              "      <td>0</td>\n",
              "      <td>93826.63</td>\n",
              "      <td>0</td>\n",
              "    </tr>\n",
              "    <tr>\n",
              "      <th>4</th>\n",
              "      <td>5</td>\n",
              "      <td>15737888</td>\n",
              "      <td>Mitchell</td>\n",
              "      <td>850</td>\n",
              "      <td>Spain</td>\n",
              "      <td>Female</td>\n",
              "      <td>43</td>\n",
              "      <td>2</td>\n",
              "      <td>125510.82</td>\n",
              "      <td>1</td>\n",
              "      <td>1</td>\n",
              "      <td>1</td>\n",
              "      <td>79084.10</td>\n",
              "      <td>0</td>\n",
              "    </tr>\n",
              "  </tbody>\n",
              "</table>\n",
              "</div>"
            ],
            "text/plain": [
              "   RowNumber  CustomerId   Surname  ...  IsActiveMember EstimatedSalary Exited\n",
              "0          1    15634602  Hargrave  ...               1       101348.88      1\n",
              "1          2    15647311      Hill  ...               1       112542.58      0\n",
              "2          3    15619304      Onio  ...               0       113931.57      1\n",
              "3          4    15701354      Boni  ...               0        93826.63      0\n",
              "4          5    15737888  Mitchell  ...               1        79084.10      0\n",
              "\n",
              "[5 rows x 14 columns]"
            ]
          },
          "metadata": {
            "tags": []
          },
          "execution_count": 8
        }
      ]
    },
    {
      "cell_type": "code",
      "metadata": {
        "id": "wbgF3UEHFMiX",
        "colab_type": "code",
        "outputId": "967bec9a-1323-4b13-d263-292eade3a9a7",
        "colab": {
          "base_uri": "https://localhost:8080/",
          "height": 34
        }
      },
      "source": [
        "dataset.shape"
      ],
      "execution_count": 0,
      "outputs": [
        {
          "output_type": "execute_result",
          "data": {
            "text/plain": [
              "(10000, 14)"
            ]
          },
          "metadata": {
            "tags": []
          },
          "execution_count": 9
        }
      ]
    },
    {
      "cell_type": "code",
      "metadata": {
        "id": "NdgDFvLkHOoC",
        "colab_type": "code",
        "outputId": "928b6895-b410-455b-a8b3-e3a78a35ff7e",
        "colab": {
          "base_uri": "https://localhost:8080/",
          "height": 84
        }
      },
      "source": [
        "dataset['Geography'].value_counts()"
      ],
      "execution_count": 0,
      "outputs": [
        {
          "output_type": "execute_result",
          "data": {
            "text/plain": [
              "France     5014\n",
              "Germany    2509\n",
              "Spain      2477\n",
              "Name: Geography, dtype: int64"
            ]
          },
          "metadata": {
            "tags": []
          },
          "execution_count": 22
        }
      ]
    },
    {
      "cell_type": "code",
      "metadata": {
        "id": "1n88zeloCXRH",
        "colab_type": "code",
        "outputId": "02b1c734-ec2d-45f2-b04e-ef0b5aa8cebe",
        "colab": {
          "base_uri": "https://localhost:8080/",
          "height": 195
        }
      },
      "source": [
        "X = dataset.iloc[:,3:13]\n",
        "X.head()"
      ],
      "execution_count": 0,
      "outputs": [
        {
          "output_type": "execute_result",
          "data": {
            "text/html": [
              "<div>\n",
              "<style scoped>\n",
              "    .dataframe tbody tr th:only-of-type {\n",
              "        vertical-align: middle;\n",
              "    }\n",
              "\n",
              "    .dataframe tbody tr th {\n",
              "        vertical-align: top;\n",
              "    }\n",
              "\n",
              "    .dataframe thead th {\n",
              "        text-align: right;\n",
              "    }\n",
              "</style>\n",
              "<table border=\"1\" class=\"dataframe\">\n",
              "  <thead>\n",
              "    <tr style=\"text-align: right;\">\n",
              "      <th></th>\n",
              "      <th>CreditScore</th>\n",
              "      <th>Geography</th>\n",
              "      <th>Gender</th>\n",
              "      <th>Age</th>\n",
              "      <th>Tenure</th>\n",
              "      <th>Balance</th>\n",
              "      <th>NumOfProducts</th>\n",
              "      <th>HasCrCard</th>\n",
              "      <th>IsActiveMember</th>\n",
              "      <th>EstimatedSalary</th>\n",
              "    </tr>\n",
              "  </thead>\n",
              "  <tbody>\n",
              "    <tr>\n",
              "      <th>0</th>\n",
              "      <td>619</td>\n",
              "      <td>France</td>\n",
              "      <td>Female</td>\n",
              "      <td>42</td>\n",
              "      <td>2</td>\n",
              "      <td>0.00</td>\n",
              "      <td>1</td>\n",
              "      <td>1</td>\n",
              "      <td>1</td>\n",
              "      <td>101348.88</td>\n",
              "    </tr>\n",
              "    <tr>\n",
              "      <th>1</th>\n",
              "      <td>608</td>\n",
              "      <td>Spain</td>\n",
              "      <td>Female</td>\n",
              "      <td>41</td>\n",
              "      <td>1</td>\n",
              "      <td>83807.86</td>\n",
              "      <td>1</td>\n",
              "      <td>0</td>\n",
              "      <td>1</td>\n",
              "      <td>112542.58</td>\n",
              "    </tr>\n",
              "    <tr>\n",
              "      <th>2</th>\n",
              "      <td>502</td>\n",
              "      <td>France</td>\n",
              "      <td>Female</td>\n",
              "      <td>42</td>\n",
              "      <td>8</td>\n",
              "      <td>159660.80</td>\n",
              "      <td>3</td>\n",
              "      <td>1</td>\n",
              "      <td>0</td>\n",
              "      <td>113931.57</td>\n",
              "    </tr>\n",
              "    <tr>\n",
              "      <th>3</th>\n",
              "      <td>699</td>\n",
              "      <td>France</td>\n",
              "      <td>Female</td>\n",
              "      <td>39</td>\n",
              "      <td>1</td>\n",
              "      <td>0.00</td>\n",
              "      <td>2</td>\n",
              "      <td>0</td>\n",
              "      <td>0</td>\n",
              "      <td>93826.63</td>\n",
              "    </tr>\n",
              "    <tr>\n",
              "      <th>4</th>\n",
              "      <td>850</td>\n",
              "      <td>Spain</td>\n",
              "      <td>Female</td>\n",
              "      <td>43</td>\n",
              "      <td>2</td>\n",
              "      <td>125510.82</td>\n",
              "      <td>1</td>\n",
              "      <td>1</td>\n",
              "      <td>1</td>\n",
              "      <td>79084.10</td>\n",
              "    </tr>\n",
              "  </tbody>\n",
              "</table>\n",
              "</div>"
            ],
            "text/plain": [
              "   CreditScore Geography  Gender  ...  HasCrCard  IsActiveMember  EstimatedSalary\n",
              "0          619    France  Female  ...          1               1        101348.88\n",
              "1          608     Spain  Female  ...          0               1        112542.58\n",
              "2          502    France  Female  ...          1               0        113931.57\n",
              "3          699    France  Female  ...          0               0         93826.63\n",
              "4          850     Spain  Female  ...          1               1         79084.10\n",
              "\n",
              "[5 rows x 10 columns]"
            ]
          },
          "metadata": {
            "tags": []
          },
          "execution_count": 25
        }
      ]
    },
    {
      "cell_type": "code",
      "metadata": {
        "id": "Mn56pc3cFRXX",
        "colab_type": "code",
        "outputId": "beef7dd4-6a78-4ba6-fa5f-0788f792baa8",
        "colab": {
          "base_uri": "https://localhost:8080/",
          "height": 118
        }
      },
      "source": [
        "y = dataset.iloc[:,13]\n",
        "y.head()"
      ],
      "execution_count": 0,
      "outputs": [
        {
          "output_type": "execute_result",
          "data": {
            "text/plain": [
              "0    1\n",
              "1    0\n",
              "2    1\n",
              "3    0\n",
              "4    0\n",
              "Name: Exited, dtype: int64"
            ]
          },
          "metadata": {
            "tags": []
          },
          "execution_count": 26
        }
      ]
    },
    {
      "cell_type": "code",
      "metadata": {
        "id": "D-rLYifyFZ4R",
        "colab_type": "code",
        "colab": {}
      },
      "source": [
        "geography = pd.get_dummies(X['Geography'], drop_first=True)\n",
        "gender = pd.get_dummies(X['Gender'], drop_first=True)"
      ],
      "execution_count": 0,
      "outputs": []
    },
    {
      "cell_type": "code",
      "metadata": {
        "id": "cMG4_9jiHEtk",
        "colab_type": "code",
        "outputId": "fc5386c4-5d06-47ef-d150-b2d34e35e4a8",
        "colab": {
          "base_uri": "https://localhost:8080/",
          "height": 195
        }
      },
      "source": [
        "geography.head()"
      ],
      "execution_count": 0,
      "outputs": [
        {
          "output_type": "execute_result",
          "data": {
            "text/html": [
              "<div>\n",
              "<style scoped>\n",
              "    .dataframe tbody tr th:only-of-type {\n",
              "        vertical-align: middle;\n",
              "    }\n",
              "\n",
              "    .dataframe tbody tr th {\n",
              "        vertical-align: top;\n",
              "    }\n",
              "\n",
              "    .dataframe thead th {\n",
              "        text-align: right;\n",
              "    }\n",
              "</style>\n",
              "<table border=\"1\" class=\"dataframe\">\n",
              "  <thead>\n",
              "    <tr style=\"text-align: right;\">\n",
              "      <th></th>\n",
              "      <th>Germany</th>\n",
              "      <th>Spain</th>\n",
              "    </tr>\n",
              "  </thead>\n",
              "  <tbody>\n",
              "    <tr>\n",
              "      <th>0</th>\n",
              "      <td>0</td>\n",
              "      <td>0</td>\n",
              "    </tr>\n",
              "    <tr>\n",
              "      <th>1</th>\n",
              "      <td>0</td>\n",
              "      <td>1</td>\n",
              "    </tr>\n",
              "    <tr>\n",
              "      <th>2</th>\n",
              "      <td>0</td>\n",
              "      <td>0</td>\n",
              "    </tr>\n",
              "    <tr>\n",
              "      <th>3</th>\n",
              "      <td>0</td>\n",
              "      <td>0</td>\n",
              "    </tr>\n",
              "    <tr>\n",
              "      <th>4</th>\n",
              "      <td>0</td>\n",
              "      <td>1</td>\n",
              "    </tr>\n",
              "  </tbody>\n",
              "</table>\n",
              "</div>"
            ],
            "text/plain": [
              "   Germany  Spain\n",
              "0        0      0\n",
              "1        0      1\n",
              "2        0      0\n",
              "3        0      0\n",
              "4        0      1"
            ]
          },
          "metadata": {
            "tags": []
          },
          "execution_count": 28
        }
      ]
    },
    {
      "cell_type": "code",
      "metadata": {
        "id": "jfW2WGjeF1BI",
        "colab_type": "code",
        "colab": {}
      },
      "source": [
        "X = pd.concat([X, geography, gender], axis = 1)"
      ],
      "execution_count": 0,
      "outputs": []
    },
    {
      "cell_type": "code",
      "metadata": {
        "id": "9CksL37QGJjn",
        "colab_type": "code",
        "outputId": "e02591e0-8e87-4157-871d-bea87332465b",
        "colab": {
          "base_uri": "https://localhost:8080/",
          "height": 195
        }
      },
      "source": [
        "X.head()"
      ],
      "execution_count": 0,
      "outputs": [
        {
          "output_type": "execute_result",
          "data": {
            "text/html": [
              "<div>\n",
              "<style scoped>\n",
              "    .dataframe tbody tr th:only-of-type {\n",
              "        vertical-align: middle;\n",
              "    }\n",
              "\n",
              "    .dataframe tbody tr th {\n",
              "        vertical-align: top;\n",
              "    }\n",
              "\n",
              "    .dataframe thead th {\n",
              "        text-align: right;\n",
              "    }\n",
              "</style>\n",
              "<table border=\"1\" class=\"dataframe\">\n",
              "  <thead>\n",
              "    <tr style=\"text-align: right;\">\n",
              "      <th></th>\n",
              "      <th>CreditScore</th>\n",
              "      <th>Geography</th>\n",
              "      <th>Gender</th>\n",
              "      <th>Age</th>\n",
              "      <th>Tenure</th>\n",
              "      <th>Balance</th>\n",
              "      <th>NumOfProducts</th>\n",
              "      <th>HasCrCard</th>\n",
              "      <th>IsActiveMember</th>\n",
              "      <th>EstimatedSalary</th>\n",
              "      <th>Germany</th>\n",
              "      <th>Spain</th>\n",
              "      <th>Male</th>\n",
              "    </tr>\n",
              "  </thead>\n",
              "  <tbody>\n",
              "    <tr>\n",
              "      <th>0</th>\n",
              "      <td>619</td>\n",
              "      <td>France</td>\n",
              "      <td>Female</td>\n",
              "      <td>42</td>\n",
              "      <td>2</td>\n",
              "      <td>0.00</td>\n",
              "      <td>1</td>\n",
              "      <td>1</td>\n",
              "      <td>1</td>\n",
              "      <td>101348.88</td>\n",
              "      <td>0</td>\n",
              "      <td>0</td>\n",
              "      <td>0</td>\n",
              "    </tr>\n",
              "    <tr>\n",
              "      <th>1</th>\n",
              "      <td>608</td>\n",
              "      <td>Spain</td>\n",
              "      <td>Female</td>\n",
              "      <td>41</td>\n",
              "      <td>1</td>\n",
              "      <td>83807.86</td>\n",
              "      <td>1</td>\n",
              "      <td>0</td>\n",
              "      <td>1</td>\n",
              "      <td>112542.58</td>\n",
              "      <td>0</td>\n",
              "      <td>1</td>\n",
              "      <td>0</td>\n",
              "    </tr>\n",
              "    <tr>\n",
              "      <th>2</th>\n",
              "      <td>502</td>\n",
              "      <td>France</td>\n",
              "      <td>Female</td>\n",
              "      <td>42</td>\n",
              "      <td>8</td>\n",
              "      <td>159660.80</td>\n",
              "      <td>3</td>\n",
              "      <td>1</td>\n",
              "      <td>0</td>\n",
              "      <td>113931.57</td>\n",
              "      <td>0</td>\n",
              "      <td>0</td>\n",
              "      <td>0</td>\n",
              "    </tr>\n",
              "    <tr>\n",
              "      <th>3</th>\n",
              "      <td>699</td>\n",
              "      <td>France</td>\n",
              "      <td>Female</td>\n",
              "      <td>39</td>\n",
              "      <td>1</td>\n",
              "      <td>0.00</td>\n",
              "      <td>2</td>\n",
              "      <td>0</td>\n",
              "      <td>0</td>\n",
              "      <td>93826.63</td>\n",
              "      <td>0</td>\n",
              "      <td>0</td>\n",
              "      <td>0</td>\n",
              "    </tr>\n",
              "    <tr>\n",
              "      <th>4</th>\n",
              "      <td>850</td>\n",
              "      <td>Spain</td>\n",
              "      <td>Female</td>\n",
              "      <td>43</td>\n",
              "      <td>2</td>\n",
              "      <td>125510.82</td>\n",
              "      <td>1</td>\n",
              "      <td>1</td>\n",
              "      <td>1</td>\n",
              "      <td>79084.10</td>\n",
              "      <td>0</td>\n",
              "      <td>1</td>\n",
              "      <td>0</td>\n",
              "    </tr>\n",
              "  </tbody>\n",
              "</table>\n",
              "</div>"
            ],
            "text/plain": [
              "   CreditScore Geography  Gender  Age  ...  EstimatedSalary  Germany  Spain  Male\n",
              "0          619    France  Female   42  ...        101348.88        0      0     0\n",
              "1          608     Spain  Female   41  ...        112542.58        0      1     0\n",
              "2          502    France  Female   42  ...        113931.57        0      0     0\n",
              "3          699    France  Female   39  ...         93826.63        0      0     0\n",
              "4          850     Spain  Female   43  ...         79084.10        0      1     0\n",
              "\n",
              "[5 rows x 13 columns]"
            ]
          },
          "metadata": {
            "tags": []
          },
          "execution_count": 30
        }
      ]
    },
    {
      "cell_type": "code",
      "metadata": {
        "id": "cTLqkuBYGz0C",
        "colab_type": "code",
        "colab": {}
      },
      "source": [
        "X.drop(['Geography', 'Gender'], axis = 1, inplace=True)"
      ],
      "execution_count": 0,
      "outputs": []
    },
    {
      "cell_type": "code",
      "metadata": {
        "id": "N7a_u780IMF2",
        "colab_type": "code",
        "colab": {}
      },
      "source": [
        "from sklearn.model_selection import train_test_split\n",
        "\n",
        "X_train, X_test, y_train, y_test = train_test_split(X, y, test_size = 0.2, random_state = 0)"
      ],
      "execution_count": 0,
      "outputs": []
    },
    {
      "cell_type": "code",
      "metadata": {
        "id": "0q62rh5_IZmh",
        "colab_type": "code",
        "colab": {}
      },
      "source": [
        "from sklearn.preprocessing import StandardScaler\n",
        "\n",
        "sc = StandardScaler()\n",
        "X_train = sc.fit_transform(X_train)\n",
        "X_test = sc.transform(X_test)"
      ],
      "execution_count": 0,
      "outputs": []
    },
    {
      "cell_type": "markdown",
      "metadata": {
        "id": "JQPtFgycN3uM",
        "colab_type": "text"
      },
      "source": [
        "Building Artificial Neural Network (ANN)"
      ]
    },
    {
      "cell_type": "code",
      "metadata": {
        "id": "v4tPS3rGLbx9",
        "colab_type": "code",
        "colab": {}
      },
      "source": [
        "import keras\n",
        "from keras.models import Sequential\n",
        "from keras.layers import Dense\n",
        "from keras.layers import LeakyReLU, PReLU, ELU\n",
        "from keras.layers import Dropout"
      ],
      "execution_count": 0,
      "outputs": []
    },
    {
      "cell_type": "code",
      "metadata": {
        "id": "ydaOpoh7ObqF",
        "colab_type": "code",
        "colab": {}
      },
      "source": [
        "# Initialising ANN\n",
        "\n",
        "classifier = Sequential()"
      ],
      "execution_count": 0,
      "outputs": []
    },
    {
      "cell_type": "code",
      "metadata": {
        "id": "AP0gkQErOmNt",
        "colab_type": "code",
        "colab": {}
      },
      "source": [
        "# Adding input layer \n",
        "classifier.add(Dense(units = 6, kernel_initializer = 'he_uniform', activation='relu', input_dim = 11))\n",
        "\n",
        "# we can add dropout layer after each hidden layer\n",
        "# classifier.add(Dropout(0.3))\n",
        "\n",
        "# Adding first hidden layer\n",
        "classifier.add(Dense(units = 6, kernel_initializer = 'he_uniform', activation='relu'))\n",
        "\n",
        "# we can add dropout layer after each hidden layer\n",
        "# classifier.add(Dropout(0.3))\n",
        "\n",
        "# Adding output layer\n",
        "classifier.add(Dense(units = 1, kernel_initializer = 'glorot_uniform', activation='sigmoid'))\n"
      ],
      "execution_count": 0,
      "outputs": []
    },
    {
      "cell_type": "code",
      "metadata": {
        "id": "GgrAhN3uPR_N",
        "colab_type": "code",
        "colab": {}
      },
      "source": [
        "# Compiling the ANN\n",
        "\n",
        "classifier.compile(optimizer = 'adam', loss = 'binary_crossentropy', metrics = ['accuracy'])"
      ],
      "execution_count": 0,
      "outputs": []
    },
    {
      "cell_type": "code",
      "metadata": {
        "id": "2FIn-k2zQjPq",
        "colab_type": "code",
        "outputId": "b1ce10ff-a68a-4762-8681-f959c31213c7",
        "colab": {
          "base_uri": "https://localhost:8080/",
          "height": 1000
        }
      },
      "source": [
        "# Fitting ANN to the training set\n",
        "\n",
        "model_hist = classifier.fit(X_train, y_train, validation_split=0.33, batch_size=10, nb_epoch = 100)"
      ],
      "execution_count": 0,
      "outputs": [
        {
          "output_type": "stream",
          "text": [
            "/usr/local/lib/python3.6/dist-packages/ipykernel_launcher.py:2: UserWarning: The `nb_epoch` argument in `fit` has been renamed `epochs`.\n",
            "  \n"
          ],
          "name": "stderr"
        },
        {
          "output_type": "stream",
          "text": [
            "Train on 5359 samples, validate on 2641 samples\n",
            "Epoch 1/100\n",
            "5359/5359 [==============================] - 1s 228us/step - loss: 0.5572 - accuracy: 0.7514 - val_loss: 0.4940 - val_accuracy: 0.7967\n",
            "Epoch 2/100\n",
            "5359/5359 [==============================] - 1s 154us/step - loss: 0.4701 - accuracy: 0.8050 - val_loss: 0.4653 - val_accuracy: 0.8080\n",
            "Epoch 3/100\n",
            "5359/5359 [==============================] - 1s 154us/step - loss: 0.4394 - accuracy: 0.8186 - val_loss: 0.4431 - val_accuracy: 0.8171\n",
            "Epoch 4/100\n",
            "5359/5359 [==============================] - 1s 152us/step - loss: 0.4174 - accuracy: 0.8261 - val_loss: 0.4290 - val_accuracy: 0.8194\n",
            "Epoch 5/100\n",
            "5359/5359 [==============================] - 1s 152us/step - loss: 0.4013 - accuracy: 0.8311 - val_loss: 0.4121 - val_accuracy: 0.8307\n",
            "Epoch 6/100\n",
            "5359/5359 [==============================] - 1s 154us/step - loss: 0.3871 - accuracy: 0.8414 - val_loss: 0.3995 - val_accuracy: 0.8364\n",
            "Epoch 7/100\n",
            "5359/5359 [==============================] - 1s 153us/step - loss: 0.3774 - accuracy: 0.8444 - val_loss: 0.3898 - val_accuracy: 0.8425\n",
            "Epoch 8/100\n",
            "5359/5359 [==============================] - 1s 152us/step - loss: 0.3684 - accuracy: 0.8507 - val_loss: 0.3860 - val_accuracy: 0.8425\n",
            "Epoch 9/100\n",
            "5359/5359 [==============================] - 1s 153us/step - loss: 0.3639 - accuracy: 0.8528 - val_loss: 0.3786 - val_accuracy: 0.8466\n",
            "Epoch 10/100\n",
            "5359/5359 [==============================] - 1s 156us/step - loss: 0.3589 - accuracy: 0.8543 - val_loss: 0.3777 - val_accuracy: 0.8474\n",
            "Epoch 11/100\n",
            "5359/5359 [==============================] - 1s 153us/step - loss: 0.3548 - accuracy: 0.8545 - val_loss: 0.3733 - val_accuracy: 0.8493\n",
            "Epoch 12/100\n",
            "5359/5359 [==============================] - 1s 155us/step - loss: 0.3531 - accuracy: 0.8571 - val_loss: 0.3709 - val_accuracy: 0.8508\n",
            "Epoch 13/100\n",
            "5359/5359 [==============================] - 1s 153us/step - loss: 0.3502 - accuracy: 0.8580 - val_loss: 0.3760 - val_accuracy: 0.8432\n",
            "Epoch 14/100\n",
            "5359/5359 [==============================] - 1s 155us/step - loss: 0.3488 - accuracy: 0.8586 - val_loss: 0.3712 - val_accuracy: 0.8501\n",
            "Epoch 15/100\n",
            "5359/5359 [==============================] - 1s 156us/step - loss: 0.3470 - accuracy: 0.8602 - val_loss: 0.3691 - val_accuracy: 0.8527\n",
            "Epoch 16/100\n",
            "5359/5359 [==============================] - 1s 154us/step - loss: 0.3458 - accuracy: 0.8587 - val_loss: 0.3690 - val_accuracy: 0.8466\n",
            "Epoch 17/100\n",
            "5359/5359 [==============================] - 1s 157us/step - loss: 0.3456 - accuracy: 0.8586 - val_loss: 0.3679 - val_accuracy: 0.8474\n",
            "Epoch 18/100\n",
            "5359/5359 [==============================] - 1s 153us/step - loss: 0.3438 - accuracy: 0.8606 - val_loss: 0.3642 - val_accuracy: 0.8512\n",
            "Epoch 19/100\n",
            "5359/5359 [==============================] - 1s 155us/step - loss: 0.3429 - accuracy: 0.8567 - val_loss: 0.3651 - val_accuracy: 0.8478\n",
            "Epoch 20/100\n",
            "5359/5359 [==============================] - 1s 153us/step - loss: 0.3414 - accuracy: 0.8602 - val_loss: 0.3654 - val_accuracy: 0.8470\n",
            "Epoch 21/100\n",
            "5359/5359 [==============================] - 1s 154us/step - loss: 0.3406 - accuracy: 0.8600 - val_loss: 0.3655 - val_accuracy: 0.8508\n",
            "Epoch 22/100\n",
            "5359/5359 [==============================] - 1s 156us/step - loss: 0.3399 - accuracy: 0.8614 - val_loss: 0.3640 - val_accuracy: 0.8493\n",
            "Epoch 23/100\n",
            "5359/5359 [==============================] - 1s 155us/step - loss: 0.3398 - accuracy: 0.8591 - val_loss: 0.3629 - val_accuracy: 0.8493\n",
            "Epoch 24/100\n",
            "5359/5359 [==============================] - 1s 154us/step - loss: 0.3389 - accuracy: 0.8610 - val_loss: 0.3624 - val_accuracy: 0.8508\n",
            "Epoch 25/100\n",
            "5359/5359 [==============================] - 1s 155us/step - loss: 0.3372 - accuracy: 0.8604 - val_loss: 0.3633 - val_accuracy: 0.8516\n",
            "Epoch 26/100\n",
            "5359/5359 [==============================] - 1s 154us/step - loss: 0.3375 - accuracy: 0.8599 - val_loss: 0.3613 - val_accuracy: 0.8512\n",
            "Epoch 27/100\n",
            "5359/5359 [==============================] - 1s 153us/step - loss: 0.3367 - accuracy: 0.8615 - val_loss: 0.3613 - val_accuracy: 0.8497\n",
            "Epoch 28/100\n",
            "5359/5359 [==============================] - 1s 150us/step - loss: 0.3363 - accuracy: 0.8614 - val_loss: 0.3606 - val_accuracy: 0.8493\n",
            "Epoch 29/100\n",
            "5359/5359 [==============================] - 1s 151us/step - loss: 0.3356 - accuracy: 0.8630 - val_loss: 0.3607 - val_accuracy: 0.8508\n",
            "Epoch 30/100\n",
            "5359/5359 [==============================] - 1s 150us/step - loss: 0.3358 - accuracy: 0.8584 - val_loss: 0.3606 - val_accuracy: 0.8538\n",
            "Epoch 31/100\n",
            "5359/5359 [==============================] - 1s 148us/step - loss: 0.3343 - accuracy: 0.8606 - val_loss: 0.3606 - val_accuracy: 0.8535\n",
            "Epoch 32/100\n",
            "5359/5359 [==============================] - 1s 151us/step - loss: 0.3341 - accuracy: 0.8610 - val_loss: 0.3604 - val_accuracy: 0.8527\n",
            "Epoch 33/100\n",
            "5359/5359 [==============================] - 1s 152us/step - loss: 0.3342 - accuracy: 0.8623 - val_loss: 0.3617 - val_accuracy: 0.8531\n",
            "Epoch 34/100\n",
            "5359/5359 [==============================] - 1s 153us/step - loss: 0.3335 - accuracy: 0.8625 - val_loss: 0.3595 - val_accuracy: 0.8531\n",
            "Epoch 35/100\n",
            "5359/5359 [==============================] - 1s 151us/step - loss: 0.3337 - accuracy: 0.8606 - val_loss: 0.3605 - val_accuracy: 0.8542\n",
            "Epoch 36/100\n",
            "5359/5359 [==============================] - 1s 151us/step - loss: 0.3331 - accuracy: 0.8602 - val_loss: 0.3618 - val_accuracy: 0.8531\n",
            "Epoch 37/100\n",
            "5359/5359 [==============================] - 1s 146us/step - loss: 0.3327 - accuracy: 0.8623 - val_loss: 0.3605 - val_accuracy: 0.8538\n",
            "Epoch 38/100\n",
            "5359/5359 [==============================] - 1s 151us/step - loss: 0.3326 - accuracy: 0.8617 - val_loss: 0.3625 - val_accuracy: 0.8523\n",
            "Epoch 39/100\n",
            "5359/5359 [==============================] - 1s 151us/step - loss: 0.3329 - accuracy: 0.8617 - val_loss: 0.3624 - val_accuracy: 0.8538\n",
            "Epoch 40/100\n",
            "5359/5359 [==============================] - 1s 153us/step - loss: 0.3320 - accuracy: 0.8623 - val_loss: 0.3609 - val_accuracy: 0.8531\n",
            "Epoch 41/100\n",
            "5359/5359 [==============================] - 1s 148us/step - loss: 0.3314 - accuracy: 0.8627 - val_loss: 0.3602 - val_accuracy: 0.8531\n",
            "Epoch 42/100\n",
            "5359/5359 [==============================] - 1s 150us/step - loss: 0.3313 - accuracy: 0.8630 - val_loss: 0.3607 - val_accuracy: 0.8516\n",
            "Epoch 43/100\n",
            "5359/5359 [==============================] - 1s 151us/step - loss: 0.3316 - accuracy: 0.8645 - val_loss: 0.3623 - val_accuracy: 0.8554\n",
            "Epoch 44/100\n",
            "5359/5359 [==============================] - 1s 150us/step - loss: 0.3308 - accuracy: 0.8636 - val_loss: 0.3627 - val_accuracy: 0.8527\n",
            "Epoch 45/100\n",
            "5359/5359 [==============================] - 1s 150us/step - loss: 0.3304 - accuracy: 0.8617 - val_loss: 0.3602 - val_accuracy: 0.8546\n",
            "Epoch 46/100\n",
            "5359/5359 [==============================] - 1s 151us/step - loss: 0.3297 - accuracy: 0.8617 - val_loss: 0.3660 - val_accuracy: 0.8501\n",
            "Epoch 47/100\n",
            "5359/5359 [==============================] - 1s 146us/step - loss: 0.3300 - accuracy: 0.8625 - val_loss: 0.3609 - val_accuracy: 0.8531\n",
            "Epoch 48/100\n",
            "5359/5359 [==============================] - 1s 151us/step - loss: 0.3308 - accuracy: 0.8627 - val_loss: 0.3616 - val_accuracy: 0.8527\n",
            "Epoch 49/100\n",
            "5359/5359 [==============================] - 1s 151us/step - loss: 0.3303 - accuracy: 0.8638 - val_loss: 0.3630 - val_accuracy: 0.8531\n",
            "Epoch 50/100\n",
            "5359/5359 [==============================] - 1s 151us/step - loss: 0.3299 - accuracy: 0.8636 - val_loss: 0.3612 - val_accuracy: 0.8519\n",
            "Epoch 51/100\n",
            "5359/5359 [==============================] - 1s 151us/step - loss: 0.3295 - accuracy: 0.8653 - val_loss: 0.3608 - val_accuracy: 0.8546\n",
            "Epoch 52/100\n",
            "5359/5359 [==============================] - 1s 150us/step - loss: 0.3298 - accuracy: 0.8647 - val_loss: 0.3653 - val_accuracy: 0.8535\n",
            "Epoch 53/100\n",
            "5359/5359 [==============================] - 1s 152us/step - loss: 0.3289 - accuracy: 0.8632 - val_loss: 0.3648 - val_accuracy: 0.8519\n",
            "Epoch 54/100\n",
            "5359/5359 [==============================] - 1s 155us/step - loss: 0.3299 - accuracy: 0.8623 - val_loss: 0.3605 - val_accuracy: 0.8508\n",
            "Epoch 55/100\n",
            "5359/5359 [==============================] - 1s 151us/step - loss: 0.3293 - accuracy: 0.8614 - val_loss: 0.3632 - val_accuracy: 0.8527\n",
            "Epoch 56/100\n",
            "5359/5359 [==============================] - 1s 150us/step - loss: 0.3292 - accuracy: 0.8638 - val_loss: 0.3609 - val_accuracy: 0.8519\n",
            "Epoch 57/100\n",
            "5359/5359 [==============================] - 1s 154us/step - loss: 0.3292 - accuracy: 0.8647 - val_loss: 0.3596 - val_accuracy: 0.8538\n",
            "Epoch 58/100\n",
            "5359/5359 [==============================] - 1s 164us/step - loss: 0.3284 - accuracy: 0.8628 - val_loss: 0.3648 - val_accuracy: 0.8523\n",
            "Epoch 59/100\n",
            "5359/5359 [==============================] - 1s 166us/step - loss: 0.3296 - accuracy: 0.8638 - val_loss: 0.3610 - val_accuracy: 0.8538\n",
            "Epoch 60/100\n",
            "5359/5359 [==============================] - 1s 164us/step - loss: 0.3284 - accuracy: 0.8632 - val_loss: 0.3639 - val_accuracy: 0.8504\n",
            "Epoch 61/100\n",
            "5359/5359 [==============================] - 1s 164us/step - loss: 0.3284 - accuracy: 0.8653 - val_loss: 0.3624 - val_accuracy: 0.8523\n",
            "Epoch 62/100\n",
            "5359/5359 [==============================] - 1s 164us/step - loss: 0.3288 - accuracy: 0.8656 - val_loss: 0.3615 - val_accuracy: 0.8531\n",
            "Epoch 63/100\n",
            "5359/5359 [==============================] - 1s 163us/step - loss: 0.3285 - accuracy: 0.8649 - val_loss: 0.3604 - val_accuracy: 0.8531\n",
            "Epoch 64/100\n",
            "5359/5359 [==============================] - 1s 154us/step - loss: 0.3293 - accuracy: 0.8638 - val_loss: 0.3589 - val_accuracy: 0.8550\n",
            "Epoch 65/100\n",
            "5359/5359 [==============================] - 1s 153us/step - loss: 0.3284 - accuracy: 0.8656 - val_loss: 0.3614 - val_accuracy: 0.8527\n",
            "Epoch 66/100\n",
            "5359/5359 [==============================] - 1s 152us/step - loss: 0.3281 - accuracy: 0.8628 - val_loss: 0.3615 - val_accuracy: 0.8512\n",
            "Epoch 67/100\n",
            "5359/5359 [==============================] - 1s 154us/step - loss: 0.3289 - accuracy: 0.8625 - val_loss: 0.3591 - val_accuracy: 0.8527\n",
            "Epoch 68/100\n",
            "5359/5359 [==============================] - 1s 150us/step - loss: 0.3285 - accuracy: 0.8645 - val_loss: 0.3608 - val_accuracy: 0.8508\n",
            "Epoch 69/100\n",
            "5359/5359 [==============================] - 1s 151us/step - loss: 0.3284 - accuracy: 0.8643 - val_loss: 0.3601 - val_accuracy: 0.8535\n",
            "Epoch 70/100\n",
            "5359/5359 [==============================] - 1s 151us/step - loss: 0.3278 - accuracy: 0.8632 - val_loss: 0.3596 - val_accuracy: 0.8542\n",
            "Epoch 71/100\n",
            "5359/5359 [==============================] - 1s 150us/step - loss: 0.3278 - accuracy: 0.8655 - val_loss: 0.3619 - val_accuracy: 0.8535\n",
            "Epoch 72/100\n",
            "5359/5359 [==============================] - 1s 149us/step - loss: 0.3279 - accuracy: 0.8638 - val_loss: 0.3628 - val_accuracy: 0.8557\n",
            "Epoch 73/100\n",
            "5359/5359 [==============================] - 1s 151us/step - loss: 0.3271 - accuracy: 0.8668 - val_loss: 0.3625 - val_accuracy: 0.8523\n",
            "Epoch 74/100\n",
            "5359/5359 [==============================] - 1s 155us/step - loss: 0.3293 - accuracy: 0.8640 - val_loss: 0.3612 - val_accuracy: 0.8535\n",
            "Epoch 75/100\n",
            "5359/5359 [==============================] - 1s 152us/step - loss: 0.3279 - accuracy: 0.8649 - val_loss: 0.3597 - val_accuracy: 0.8519\n",
            "Epoch 76/100\n",
            "5359/5359 [==============================] - 1s 152us/step - loss: 0.3266 - accuracy: 0.8628 - val_loss: 0.3610 - val_accuracy: 0.8523\n",
            "Epoch 77/100\n",
            "5359/5359 [==============================] - 1s 152us/step - loss: 0.3271 - accuracy: 0.8660 - val_loss: 0.3630 - val_accuracy: 0.8565\n",
            "Epoch 78/100\n",
            "5359/5359 [==============================] - 1s 151us/step - loss: 0.3282 - accuracy: 0.8656 - val_loss: 0.3596 - val_accuracy: 0.8542\n",
            "Epoch 79/100\n",
            "5359/5359 [==============================] - 1s 153us/step - loss: 0.3274 - accuracy: 0.8647 - val_loss: 0.3589 - val_accuracy: 0.8519\n",
            "Epoch 80/100\n",
            "5359/5359 [==============================] - 1s 153us/step - loss: 0.3271 - accuracy: 0.8638 - val_loss: 0.3611 - val_accuracy: 0.8523\n",
            "Epoch 81/100\n",
            "5359/5359 [==============================] - 1s 153us/step - loss: 0.3274 - accuracy: 0.8643 - val_loss: 0.3600 - val_accuracy: 0.8531\n",
            "Epoch 82/100\n",
            "5359/5359 [==============================] - 1s 152us/step - loss: 0.3272 - accuracy: 0.8660 - val_loss: 0.3620 - val_accuracy: 0.8554\n",
            "Epoch 83/100\n",
            "5359/5359 [==============================] - 1s 149us/step - loss: 0.3278 - accuracy: 0.8643 - val_loss: 0.3584 - val_accuracy: 0.8550\n",
            "Epoch 84/100\n",
            "5359/5359 [==============================] - 1s 147us/step - loss: 0.3273 - accuracy: 0.8643 - val_loss: 0.3584 - val_accuracy: 0.8557\n",
            "Epoch 85/100\n",
            "5359/5359 [==============================] - 1s 151us/step - loss: 0.3264 - accuracy: 0.8636 - val_loss: 0.3602 - val_accuracy: 0.8538\n",
            "Epoch 86/100\n",
            "5359/5359 [==============================] - 1s 152us/step - loss: 0.3259 - accuracy: 0.8647 - val_loss: 0.3677 - val_accuracy: 0.8485\n",
            "Epoch 87/100\n",
            "5359/5359 [==============================] - 1s 153us/step - loss: 0.3277 - accuracy: 0.8621 - val_loss: 0.3589 - val_accuracy: 0.8561\n",
            "Epoch 88/100\n",
            "5359/5359 [==============================] - 1s 152us/step - loss: 0.3272 - accuracy: 0.8645 - val_loss: 0.3576 - val_accuracy: 0.8535\n",
            "Epoch 89/100\n",
            "5359/5359 [==============================] - 1s 153us/step - loss: 0.3274 - accuracy: 0.8649 - val_loss: 0.3584 - val_accuracy: 0.8554\n",
            "Epoch 90/100\n",
            "5359/5359 [==============================] - 1s 153us/step - loss: 0.3263 - accuracy: 0.8640 - val_loss: 0.3605 - val_accuracy: 0.8557\n",
            "Epoch 91/100\n",
            "5359/5359 [==============================] - 1s 151us/step - loss: 0.3274 - accuracy: 0.8651 - val_loss: 0.3594 - val_accuracy: 0.8550\n",
            "Epoch 92/100\n",
            "5359/5359 [==============================] - 1s 154us/step - loss: 0.3263 - accuracy: 0.8653 - val_loss: 0.3594 - val_accuracy: 0.8527\n",
            "Epoch 93/100\n",
            "5359/5359 [==============================] - 1s 152us/step - loss: 0.3259 - accuracy: 0.8655 - val_loss: 0.3605 - val_accuracy: 0.8557\n",
            "Epoch 94/100\n",
            "5359/5359 [==============================] - 1s 151us/step - loss: 0.3256 - accuracy: 0.8634 - val_loss: 0.3650 - val_accuracy: 0.8519\n",
            "Epoch 95/100\n",
            "5359/5359 [==============================] - 1s 154us/step - loss: 0.3277 - accuracy: 0.8656 - val_loss: 0.3579 - val_accuracy: 0.8535\n",
            "Epoch 96/100\n",
            "5359/5359 [==============================] - 1s 154us/step - loss: 0.3261 - accuracy: 0.8632 - val_loss: 0.3598 - val_accuracy: 0.8546\n",
            "Epoch 97/100\n",
            "5359/5359 [==============================] - 1s 151us/step - loss: 0.3257 - accuracy: 0.8645 - val_loss: 0.3590 - val_accuracy: 0.8527\n",
            "Epoch 98/100\n",
            "5359/5359 [==============================] - 1s 154us/step - loss: 0.3264 - accuracy: 0.8658 - val_loss: 0.3588 - val_accuracy: 0.8554\n",
            "Epoch 99/100\n",
            "5359/5359 [==============================] - 1s 149us/step - loss: 0.3262 - accuracy: 0.8634 - val_loss: 0.3595 - val_accuracy: 0.8557\n",
            "Epoch 100/100\n",
            "5359/5359 [==============================] - 1s 150us/step - loss: 0.3264 - accuracy: 0.8649 - val_loss: 0.3599 - val_accuracy: 0.8569\n"
          ],
          "name": "stdout"
        }
      ]
    },
    {
      "cell_type": "code",
      "metadata": {
        "id": "d-Svz5KuRGyt",
        "colab_type": "code",
        "colab": {}
      },
      "source": [
        "y_pred = classifier.predict(X_test)\n",
        "y_pred = (y_pred > 0.5)"
      ],
      "execution_count": 0,
      "outputs": []
    },
    {
      "cell_type": "code",
      "metadata": {
        "id": "E7CvhRfySACH",
        "colab_type": "code",
        "outputId": "c4e5fa4b-3377-4308-e8d3-f9902b9c2b68",
        "colab": {
          "base_uri": "https://localhost:8080/",
          "height": 50
        }
      },
      "source": [
        "from sklearn.metrics import confusion_matrix, accuracy_score\n",
        "\n",
        "cm = confusion_matrix(y_test, y_pred)\n",
        "cm"
      ],
      "execution_count": 0,
      "outputs": [
        {
          "output_type": "execute_result",
          "data": {
            "text/plain": [
              "array([[1527,   68],\n",
              "       [ 209,  196]])"
            ]
          },
          "metadata": {
            "tags": []
          },
          "execution_count": 60
        }
      ]
    },
    {
      "cell_type": "code",
      "metadata": {
        "id": "qJbsVW-qSbip",
        "colab_type": "code",
        "outputId": "b4e0ff8a-2212-4fb6-aeaa-43566c1a1881",
        "colab": {
          "base_uri": "https://localhost:8080/",
          "height": 34
        }
      },
      "source": [
        "score = accuracy_score(y_pred, y_test)\n",
        "score"
      ],
      "execution_count": 0,
      "outputs": [
        {
          "output_type": "execute_result",
          "data": {
            "text/plain": [
              "0.8615"
            ]
          },
          "metadata": {
            "tags": []
          },
          "execution_count": 61
        }
      ]
    },
    {
      "cell_type": "code",
      "metadata": {
        "id": "WswMz2s8SqCc",
        "colab_type": "code",
        "colab": {}
      },
      "source": [
        ""
      ],
      "execution_count": 0,
      "outputs": []
    }
  ]
}